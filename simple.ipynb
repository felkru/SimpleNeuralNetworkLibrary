{
 "cells": [
  {
   "metadata": {},
   "cell_type": "markdown",
   "source": "# Pytroch from Scratch",
   "id": "b7137079ca97cb46"
  },
  {
   "metadata": {
    "ExecuteTime": {
     "end_time": "2024-05-21T14:16:06.903491Z",
     "start_time": "2024-05-21T14:16:06.262436Z"
    }
   },
   "cell_type": "code",
   "source": [
    "import math\n",
    "import random\n",
    "\n",
    "import numpy as np\n",
    "\n",
    "import matplotlib.pyplot as plt\n",
    "import matplotlib.lines as mlines\n",
    "import matplotlib.transforms as mtransforms\n",
    "%matplotlib inline"
   ],
   "id": "9f4ba1e0e92aca7",
   "outputs": [],
   "execution_count": 1
  },
  {
   "metadata": {
    "ExecuteTime": {
     "end_time": "2024-05-21T14:16:06.942953Z",
     "start_time": "2024-05-21T14:16:06.917141Z"
    }
   },
   "cell_type": "code",
   "source": [
    "class Value:\n",
    "    \n",
    "    def __init__(self, data, children=()):\n",
    "        self.data = data\n",
    "        self.grad = 0.0\n",
    "        self._children = children\n",
    "        self._backward = lambda *args: None\n",
    "        \n",
    "    def __repr__(self):\n",
    "        return f\"Value=({self.data})\"\n",
    "    \n",
    "    def __add__(self, other):\n",
    "        other = Value(other) if isinstance(other, (int, float)) else other\n",
    "        \n",
    "        out = Value(self.data + other.data, (self, other))\n",
    "        \n",
    "        def _backward():\n",
    "            self.grad += out.grad\n",
    "            other.grad += out.grad\n",
    "        out._backward = _backward\n",
    "        \n",
    "        return out\n",
    "    \n",
    "    def __radd__(self, other):\n",
    "        return self + other\n",
    "    \n",
    "    def __mul__(self, other):\n",
    "        other = Value(other) if isinstance(other, (int, float)) else other\n",
    "        \n",
    "        out = Value(self.data * other.data, (self, other))\n",
    "\n",
    "        def _backward():\n",
    "            self.grad += other.data * out.grad\n",
    "            other.grad += self.data * out.grad\n",
    "        out._backward = _backward\n",
    "        \n",
    "        return out\n",
    "    \n",
    "    def __rmul__(self, other):\n",
    "        return self * other\n",
    "\n",
    "    def __neg__(self): # -self\n",
    "        return self * -1\n",
    "\n",
    "    def __sub__(self, other): # self - other\n",
    "        return self + (-other)\n",
    "    \n",
    "    def __pow__(self, other):\n",
    "        # needed some help here\n",
    "        assert isinstance(other, (int, float)), \"only supporting int/float powers for now\"\n",
    "\n",
    "        out = Value(self.data ** other, (self,))\n",
    "\n",
    "        def _backward():\n",
    "            # weirdly I had to look this up lol\n",
    "            self.grad += other * (self.data ** (other - 1)) * out.grad\n",
    "        out._backward = _backward\n",
    "\n",
    "        return out\n",
    "\n",
    "    def __truediv__(self, other):\n",
    "        return self * other ** -1\n",
    "    \n",
    "    def exp(self):\n",
    "        out = Value(math.exp(self.data), (self,))\n",
    "        \n",
    "        def _backward():\n",
    "            self.grad += out.data\n",
    "        out._backward = _backward\n",
    "            \n",
    "        return out\n",
    "    \n",
    "    def tanh(self):\n",
    "        # had to look up the tanh function and derivative \n",
    "        out = (self.exp() - (self * -1).exp()) / (self.exp() + (self * -1).exp())\n",
    "        out._children = (self,)\n",
    "        \n",
    "        def _backward():\n",
    "            # had to ask someone to figure out that I used parantheses in wrong place\n",
    "            self.grad += (1 - out.data ** 2) * out.grad\n",
    "        out._backward = _backward\n",
    "        \n",
    "        return out\n",
    "    \n",
    "    def backward(self):\n",
    "        # topological sort\n",
    "        visited = set()\n",
    "        # forgot this line\n",
    "        topo = []\n",
    "        def build_topo(node):\n",
    "            visited.add(node)\n",
    "            for child in node._children:\n",
    "                build_topo(child) if (child not in visited) else None\n",
    "            # also forgot this line\n",
    "            topo.append(node)\n",
    "        build_topo(self)\n",
    "\n",
    "        self.grad = 1\n",
    "        for p in reversed(topo):\n",
    "            p._backward()\n",
    "   "
   ],
   "id": "c44b164a59df200c",
   "outputs": [],
   "execution_count": 2
  },
  {
   "metadata": {
    "ExecuteTime": {
     "end_time": "2024-05-21T14:16:06.954222Z",
     "start_time": "2024-05-21T14:16:06.946046Z"
    }
   },
   "cell_type": "code",
   "source": [
    "# Testing    \n",
    "a = Value(4.0)\n",
    "b = Value(2.0)\n",
    "c = Value(7.0)\n",
    "\n",
    "d = a+b\n",
    "e = c*d\n",
    "res = e ** 2\n",
    "res.backward()\n",
    "(a.grad, b.grad, c.grad, d.grad, e.grad, res.grad)"
   ],
   "id": "fc5217c684451f5a",
   "outputs": [
    {
     "data": {
      "text/plain": [
       "(588.0, 588.0, 504.0, 588.0, 84.0, 1)"
      ]
     },
     "execution_count": 3,
     "metadata": {},
     "output_type": "execute_result"
    }
   ],
   "execution_count": 3
  },
  {
   "metadata": {
    "ExecuteTime": {
     "end_time": "2024-05-21T14:16:06.961230Z",
     "start_time": "2024-05-21T14:16:06.956807Z"
    }
   },
   "cell_type": "code",
   "source": [
    "# testing automatic differentiation\n",
    "h = 0.0001\n",
    "a = Value(1.0)\n",
    "r1 = a.tanh()\n",
    "\n",
    "b = Value(1 + h)\n",
    "r2 = b.tanh()\n",
    "\n",
    "r1.grad = 1\n",
    "r1.backward()\n",
    "a.grad, (r2 - r1)/h"
   ],
   "id": "66fa328955f4e39d",
   "outputs": [
    {
     "data": {
      "text/plain": [
       "(0.4199743416140259, Value=(0.4199423576500827))"
      ]
     },
     "execution_count": 4,
     "metadata": {},
     "output_type": "execute_result"
    }
   ],
   "execution_count": 4
  },
  {
   "metadata": {
    "ExecuteTime": {
     "end_time": "2024-05-21T14:16:06.971759Z",
     "start_time": "2024-05-21T14:16:06.963464Z"
    }
   },
   "cell_type": "code",
   "source": [
    "class Neuron:\n",
    "    \n",
    "    # wasn't sure how to initalize the weights\n",
    "    def __init__(self, nin):\n",
    "        self.w = [Value(random.uniform(-0.5, 0.5)) for _ in range(nin)]\n",
    "        self.b = Value(random.uniform(-0.5,0.5))\n",
    "        \n",
    "    # had to look up the zip function\n",
    "    def __call__(self, x):\n",
    "        act = sum([wi*xi for wi, xi in zip(self.w, x)], self.b)\n",
    "        out = act.tanh()\n",
    "        \n",
    "        return out\n",
    "    \n",
    "    def parameters(self):\n",
    "        return self.w + [self.b]\n",
    "\n",
    "class Layer:\n",
    "    \n",
    "    def __init__(self, inputs, outputs):\n",
    "        self.neurons = [Neuron(inputs) for _ in range(outputs)]\n",
    "        \n",
    "    def __call__(self, x):\n",
    "        out = [n(x) for n in self.neurons]\n",
    "\n",
    "        # had to look up length 1 array handling\n",
    "        return out[0] if len(out) == 1 else out\n",
    "    \n",
    "    def parameters(self):\n",
    "        return [p for neuron in self.neurons for p in neuron.parameters()]\n",
    "    \n",
    "class MLP:\n",
    "    \n",
    "    def __init__(self, layers):\n",
    "        \"\"\"\n",
    "        \n",
    "        :param layers: listlike, index 0 is data dimension, last index is output dimension, intermediary layers are in between. Example: [2, 3, 1] for a binary classifier of 2D datapoints with a 3D internal representation.\n",
    "        \"\"\"\n",
    "        self.layers = [Layer(layer, layers[i+1]) for i, layer in enumerate(layers[:-1])]\n",
    "        \n",
    "    def __call__(self, x):\n",
    "        for layer in self.layers:\n",
    "            x = layer(x)\n",
    "            \n",
    "        return x\n",
    "    \n",
    "    def parameters(self):\n",
    "        return [p for layer in self.layers for p in layer.parameters()]\n",
    "        "
   ],
   "id": "82bdad92328be672",
   "outputs": [],
   "execution_count": 5
  },
  {
   "metadata": {
    "ExecuteTime": {
     "end_time": "2024-05-21T14:16:06.979107Z",
     "start_time": "2024-05-21T14:16:06.974134Z"
    }
   },
   "cell_type": "code",
   "source": [
    "mlp1 = MLP([1,2,1])\n",
    "len(mlp1.parameters())"
   ],
   "id": "dd1206c2fbe760bf",
   "outputs": [
    {
     "data": {
      "text/plain": [
       "7"
      ]
     },
     "execution_count": 6,
     "metadata": {},
     "output_type": "execute_result"
    }
   ],
   "execution_count": 6
  },
  {
   "metadata": {
    "ExecuteTime": {
     "end_time": "2024-05-21T14:16:06.985633Z",
     "start_time": "2024-05-21T14:16:06.980352Z"
    }
   },
   "cell_type": "code",
   "source": [
    "mlp2 = MLP([1,2,1])\n",
    "mlp2([1,2,3])"
   ],
   "id": "85fb522140379d4b",
   "outputs": [
    {
     "data": {
      "text/plain": [
       "Value=(0.5187852168154413)"
      ]
     },
     "execution_count": 7,
     "metadata": {},
     "output_type": "execute_result"
    }
   ],
   "execution_count": 7
  },
  {
   "metadata": {
    "ExecuteTime": {
     "end_time": "2024-05-21T14:16:06.990054Z",
     "start_time": "2024-05-21T14:16:06.986572Z"
    }
   },
   "cell_type": "code",
   "source": [
    "# andrejs training example\n",
    "X = [\n",
    "    [2.0, 3.0, -1.0],\n",
    "    [3.0, -1.0, 0.5],\n",
    "    [0.5, 1.0, 1.0],\n",
    "    [1.0, 1.0, -1.0],\n",
    "]\n",
    "Y = [1.0, -1.0, -1.0, 1.0]"
   ],
   "id": "fae7f77c873e89cd",
   "outputs": [],
   "execution_count": 8
  },
  {
   "metadata": {
    "ExecuteTime": {
     "end_time": "2024-05-21T14:16:07.158863Z",
     "start_time": "2024-05-21T14:16:06.990838Z"
    }
   },
   "cell_type": "code",
   "source": [
    "# Seconds training example\n",
    "# Values with both values below 5 should be classified as 0, both above 5: 1 and otherwise 0.5\n",
    "X = np.array([[1.0, 0.5], [4.4, 4.7], [0.2, 4.6], [4.7, 1], [0.2, 0.0], [3.2, 4.5], [5.7, 2], [4, 6.8], [7, 4.5], [1, 9], [9.2, 5.8], [8.5, 10.0], [10, 10], [7, 7], [10, 5], [5, 10], [5.4, 5.2]])\n",
    "Y = [0.0, 0.0, 0.0, 0.0, 0.0, 0.0, 0.5, 0.5, 0.5, 0.5, 1.0, 1.0, 1.0, 1.0, 1.0, 1.0, 1.0]\n",
    "\n",
    "# visualize the training data\n",
    "fig, ax = plt.subplots()\n",
    "ax.scatter(X[:, 0], X[:, 1], c=Y)"
   ],
   "id": "8e00246fe6232d00",
   "outputs": [
    {
     "data": {
      "text/plain": [
       "<matplotlib.collections.PathCollection at 0x1167212b0>"
      ]
     },
     "execution_count": 9,
     "metadata": {},
     "output_type": "execute_result"
    },
    {
     "data": {
      "text/plain": [
       "<Figure size 640x480 with 1 Axes>"
      ],
      "image/png": "[encoded data removed]"
     },
     "metadata": {},
     "output_type": "display_data"
    }
   ],
   "execution_count": 9
  },
  {
   "metadata": {
    "ExecuteTime": {
     "end_time": "2024-05-21T14:21:39.670984Z",
     "start_time": "2024-05-21T14:21:39.666985Z"
    }
   },
   "cell_type": "code",
   "source": [
    "# initialize up the model\n",
    "model = MLP([2, 4, 4, 4, 1])"
   ],
   "id": "35aa77f8b0a2ccb4",
   "outputs": [],
   "execution_count": 39
  },
  {
   "metadata": {
    "ExecuteTime": {
     "end_time": "2024-05-21T14:22:02.066114Z",
     "start_time": "2024-05-21T14:21:57.533756Z"
    }
   },
   "cell_type": "code",
   "source": [
    "learning_rate = -0.01\n",
    "epochs = 200\n",
    "for k in range(epochs):\n",
    "    # forward pass\n",
    "    preds = [model(x) for x in X]\n",
    "    loss = sum((pred - y) ** 2 for pred, y in zip(preds, Y))\n",
    "    \n",
    "    # backward pass\n",
    "    for p in model.parameters():\n",
    "        p.grad = 0\n",
    "    loss.backward()\n",
    "    \n",
    "    # adjust parameters\n",
    "    for p in model.parameters():\n",
    "        p.data += p.grad * learning_rate\n",
    "    \n",
    "    print(k, loss) if k%10 == 0 else None"
   ],
   "id": "ce78d2bdd588896a",
   "outputs": [
    {
     "name": "stdout",
     "output_type": "stream",
     "text": [
      "0 Value=(0.8653751593041357)\n",
      "10 Value=(2.000753492466442)\n",
      "20 Value=(0.9501842462349241)\n",
      "30 Value=(0.9987718918044387)\n",
      "40 Value=(1.0716753951793312)\n",
      "50 Value=(0.8718019925868546)\n",
      "60 Value=(0.804462892836217)\n",
      "70 Value=(0.7764843656371966)\n",
      "80 Value=(1.7741639685390598)\n",
      "90 Value=(1.1642617524851862)\n",
      "100 Value=(0.9701646947568774)\n",
      "110 Value=(1.0584293648983945)\n",
      "120 Value=(1.7821229224615402)\n",
      "130 Value=(0.7694936140866615)\n",
      "140 Value=(1.0709964949850963)\n",
      "150 Value=(1.378556105511477)\n",
      "160 Value=(0.659388233780074)\n",
      "170 Value=(0.7985767127600389)\n",
      "180 Value=(1.342929807277561)\n",
      "190 Value=(0.5992428851261329)\n"
     ]
    }
   ],
   "execution_count": 42
  },
  {
   "metadata": {
    "ExecuteTime": {
     "end_time": "2024-05-21T14:30:48.782299Z",
     "start_time": "2024-05-21T14:30:48.776808Z"
    }
   },
   "cell_type": "code",
   "source": "model([5.2, 7])",
   "id": "cb7d6f25f6a6ceb",
   "outputs": [
    {
     "data": {
      "text/plain": [
       "Value=(0.8015418376724314)"
      ]
     },
     "execution_count": 49,
     "metadata": {},
     "output_type": "execute_result"
    }
   ],
   "execution_count": 49
  }
 ],
 "metadata": {
  "kernelspec": {
   "display_name": "Python 3",
   "language": "python",
   "name": "python3"
  },
  "language_info": {
   "codemirror_mode": {
    "name": "ipython",
    "version": 2
   },
   "file_extension": ".py",
   "mimetype": "text/x-python",
   "name": "python",
   "nbconvert_exporter": "python",
   "pygments_lexer": "ipython2",
   "version": "2.7.6"
  }
 },
 "nbformat": 4,
 "nbformat_minor": 5
}
